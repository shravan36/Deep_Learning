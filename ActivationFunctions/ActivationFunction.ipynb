{
 "cells": [
  {
   "cell_type": "markdown",
   "metadata": {
    "id": "mgcMOlkOyxRz"
   },
   "source": [
    "# Activation Function\n"
   ]
  },
  {
   "cell_type": "markdown",
   "metadata": {
    "id": "zZg-wmyiy2Hd"
   },
   "source": [
    "# Importing Libraries"
   ]
  },
  {
   "cell_type": "code",
   "execution_count": 1,
   "metadata": {
    "id": "sF93yphtyrhG"
   },
   "outputs": [],
   "source": [
    "from numpy import array #For Array Initialization\n",
    "from numpy import random #For Randomly choosing Numbers\n",
    "from numpy import dot #For Doing DOT Product\n",
    "from random import choice"
   ]
  },
  {
   "cell_type": "markdown",
   "metadata": {
    "id": "_J8gcaRE3FZA"
   },
   "source": [
    "# Initialized Dataset"
   ]
  },
  {
   "cell_type": "code",
   "execution_count": 2,
   "metadata": {
    "id": "t0gwhMN6zhse"
   },
   "outputs": [
    {
     "name": "stdout",
     "output_type": "stream",
     "text": [
      "[(array([0, 0, 1]), 0), (array([0, 1, 1]), 1), (array([1, 0, 1]), 1), (array([1, 1, 1]), 1)]\n",
      "[0 0 1] 0\n"
     ]
    }
   ],
   "source": [
    "dataset = [\n",
    "    (array([0,0,1]), 0), #array([x,y,b],e) x,y=Input , b=bias, e=Expected O/P to validate\n",
    "    (array([0,1,1]), 1),\n",
    "    (array([1,0,1]), 1),\n",
    "    (array([1,1,1]), 1),\n",
    "]\n",
    "print(dataset)\n",
    "print(array([0,0,1]), 0)"
   ]
  },
  {
   "cell_type": "markdown",
   "metadata": {
    "id": "K1t7I4cI3Myu"
   },
   "source": [
    "# Initializing Random numbers for WEIGHTS"
   ]
  },
  {
   "cell_type": "code",
   "execution_count": 3,
   "metadata": {
    "id": "gaCIPAqe3RIM"
   },
   "outputs": [
    {
     "data": {
      "text/plain": [
       "array([0.20614247, 0.67361084, 0.76030004])"
      ]
     },
     "execution_count": 3,
     "metadata": {},
     "output_type": "execute_result"
    }
   ],
   "source": [
    "weights = random.rand(3)\n",
    "weights"
   ]
  },
  {
   "cell_type": "markdown",
   "metadata": {
    "id": "mek19BC73eeJ"
   },
   "source": [
    "# Initializing additional variables"
   ]
  },
  {
   "cell_type": "code",
   "execution_count": 4,
   "metadata": {
    "id": "cmRWDOef3hk3"
   },
   "outputs": [],
   "source": [
    "r = 0.2 #learning Rate\n",
    "n = 100 #Number of Iteration"
   ]
  },
  {
   "cell_type": "markdown",
   "metadata": {
    "id": "8ZWkFpAX0yfF"
   },
   "source": [
    "# ACTIVATION FUNCTION"
   ]
  },
  {
   "cell_type": "markdown",
   "metadata": {
    "id": "qFkj9b4T2-fc"
   },
   "source": [
    "# Training & Evaluating using STEP Activation Function"
   ]
  },
  {
   "cell_type": "code",
   "execution_count": 5,
   "metadata": {
    "id": "xV6bz_6-3x77"
   },
   "outputs": [
    {
     "name": "stdout",
     "output_type": "stream",
     "text": [
      "ResultBAFn: -0.04 ResultAFn: 0\n",
      "ResultBAFn: 0.634 ResultAFn: 1\n",
      "ResultBAFn: 0.166 ResultAFn: 1\n",
      "ResultBAFn: 0.84 ResultAFn: 1\n"
     ]
    }
   ],
   "source": [
    "activationFn = lambda x: 0 if x < 0 else 1 #step activation function (if i/p is negative o/p is 0 else 1)\n",
    "for j in range(n):\n",
    "    x, expected = choice(dataset) \n",
    "    result = dot(weights, x)\n",
    "    err = expected-activationFn(result)\n",
    "    weights += r * err * x\n",
    "\n",
    "for x, _ in dataset:\n",
    "    result = dot(x, weights)\n",
    "    print(\"ResultBAFn: {} ResultAFn: {}\".format(round(result,3), activationFn(result)))    "
   ]
  },
  {
   "cell_type": "markdown",
   "metadata": {
    "id": "6AMAQwMw04NZ"
   },
   "source": [
    "# Training & Evaluating using LINEAR Activation Function\n"
   ]
  },
  {
   "cell_type": "code",
   "execution_count": 6,
   "metadata": {
    "id": "ggVhtsqy05ko"
   },
   "outputs": [
    {
     "name": "stdout",
     "output_type": "stream",
     "text": [
      "ResultBAFn: 0.211 ResultAFn: 0.21074703041747608\n",
      "ResultBAFn: 0.648 ResultAFn: 0.6479160056882081\n",
      "ResultBAFn: 0.634 ResultAFn: 0.6337467158571406\n",
      "ResultBAFn: 1.071 ResultAFn: 1.0709156911278725\n"
     ]
    }
   ],
   "source": [
    "activationFn = lambda x: x \n",
    "\n",
    "for j in range(n):\n",
    "    x, expected = choice(dataset) \n",
    "    result = dot(weights, x) \n",
    "    err = expected-activationFn(result)\n",
    "    weights += r * err * x\n",
    "\n",
    "for x, _ in dataset:\n",
    "    result = dot(x, weights)\n",
    "    print(\"ResultBAFn: {} ResultAFn: {}\".format(round(result,3), activationFn(result)))    "
   ]
  },
  {
   "cell_type": "markdown",
   "metadata": {
    "id": "Pz204q2v1Zj2"
   },
   "source": [
    "# Training & Evaluating using SIGMOID Activation Function"
   ]
  },
  {
   "cell_type": "code",
   "execution_count": 8,
   "metadata": {
    "id": "HVN2rMRB1cEf"
   },
   "outputs": [
    {
     "name": "stdout",
     "output_type": "stream",
     "text": [
      "ResultBAFn: -0.089 ResultAFn: 0.47768211964440943\n",
      "ResultBAFn: 1.768 ResultAFn: 0.8542027356319372\n",
      "ResultBAFn: 1.863 ResultAFn: 0.8656050074759278\n",
      "ResultBAFn: 3.72 ResultAFn: 0.976337756390945\n"
     ]
    }
   ],
   "source": [
    "import numpy as np\n",
    "activationFn = lambda x: 1/(1+np.exp(-x))\n",
    "error = []\n",
    "for j in range(n):\n",
    "    x, expected = choice(dataset) \n",
    "    result = dot(weights, x) \n",
    "    err = expected-activationFn(result)\n",
    "    error.append(err)\n",
    "    weights += r * err * x\n",
    "\n",
    "for x, _ in dataset:\n",
    "    result = dot(x, weights)\n",
    "    print(\"ResultBAFn: {} ResultAFn: {}\".format(round(result,3), activationFn(result)))    "
   ]
  },
  {
   "cell_type": "markdown",
   "metadata": {
    "id": "k967JyLm4dTw"
   },
   "source": [
    "# Training & Evaluating using RELU Activation Function"
   ]
  },
  {
   "cell_type": "code",
   "execution_count": 9,
   "metadata": {
    "id": "0w3KJ2A81ynL"
   },
   "outputs": [
    {
     "name": "stdout",
     "output_type": "stream",
     "text": [
      "ResultBAFn: 0.167 ResultAFn: 0.16724610188002245\n",
      "ResultBAFn: 0.941 ResultAFn: 0.9412932525348069\n",
      "ResultBAFn: 0.851 ResultAFn: 0.8507162290388112\n",
      "ResultBAFn: 1.625 ResultAFn: 1.6247633796935956\n"
     ]
    }
   ],
   "source": [
    "activationFn = lambda x: 0 if x < 0 else x \n",
    "for j in range(n):\n",
    "    x, expected = choice(dataset) \n",
    "    result = dot(weights, x)\n",
    "    err = expected-activationFn(result)\n",
    "    weights += r * err * x\n",
    "\n",
    "for x, _ in dataset:\n",
    "    result = dot(x, weights)\n",
    "    print(\"ResultBAFn: {} ResultAFn: {}\".format(round(result,3), activationFn(result)))    "
   ]
  },
  {
   "cell_type": "markdown",
   "metadata": {
    "id": "dhfA-Lkq5AbT"
   },
   "source": [
    "# Training & Evaluating using SOFTMAX Activation Function"
   ]
  },
  {
   "cell_type": "code",
   "execution_count": 10,
   "metadata": {
    "id": "vEurppgE5GAU"
   },
   "outputs": [
    {
     "name": "stdout",
     "output_type": "stream",
     "text": [
      "ResultBAFn: -4.833 ResultAFn: 1.0\n",
      "ResultBAFn: -4.059 ResultAFn: 1.0\n",
      "ResultBAFn: -4.149 ResultAFn: 1.0\n",
      "ResultBAFn: -3.375 ResultAFn: 1.0\n"
     ]
    }
   ],
   "source": [
    "activationFn = lambda x: np.exp(x) / np.sum(np.exp(x), axis=0)\n",
    "err = []\n",
    "for j in range(n):\n",
    "    x, expected = choice(dataset) \n",
    "    result = dot(weights, x) \n",
    "    err = expected-activationFn(result)\n",
    "    error.append(err)\n",
    "    weights += r * err * x\n",
    "\n",
    "for x, _ in dataset:\n",
    "    result = dot(x, weights)\n",
    "    print(\"ResultBAFn: {} ResultAFn: {}\".format(round(result,3), activationFn(result)))    "
   ]
  },
  {
   "cell_type": "code",
   "execution_count": null,
   "metadata": {},
   "outputs": [],
   "source": []
  }
 ],
 "metadata": {
  "colab": {
   "collapsed_sections": [],
   "name": "2_DL_ActivationFunction.ipynb",
   "provenance": []
  },
  "kernelspec": {
   "display_name": "Python 3 (ipykernel)",
   "language": "python",
   "name": "python3"
  },
  "language_info": {
   "codemirror_mode": {
    "name": "ipython",
    "version": 3
   },
   "file_extension": ".py",
   "mimetype": "text/x-python",
   "name": "python",
   "nbconvert_exporter": "python",
   "pygments_lexer": "ipython3",
   "version": "3.8.3"
  }
 },
 "nbformat": 4,
 "nbformat_minor": 1
}
